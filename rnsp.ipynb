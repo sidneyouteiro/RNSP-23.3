{
  "cells": [
    {
      "cell_type": "code",
      "execution_count": 2,
      "id": "0f0ffc1d-97d6-4ab7-9ef3-829e26c5fc81",
      "metadata": {
        "id": "0f0ffc1d-97d6-4ab7-9ef3-829e26c5fc81"
      },
      "outputs": [],
      "source": [
        "# %pip install scikit-learn pandas matplotlib"
      ]
    },
    {
      "cell_type": "markdown",
      "id": "ab222b98-7fa9-4594-b498-d5457fac66fe",
      "metadata": {
        "jp-MarkdownHeadingCollapsed": true,
        "id": "ab222b98-7fa9-4594-b498-d5457fac66fe"
      },
      "source": [
        "## Get Dataset"
      ]
    },
    {
      "cell_type": "code",
      "execution_count": 3,
      "id": "6061655a-4831-418f-96dd-3c4ad156dcdc",
      "metadata": {
        "id": "6061655a-4831-418f-96dd-3c4ad156dcdc"
      },
      "outputs": [],
      "source": [
        "from sklearn.datasets import fetch_openml\n",
        "import matplotlib.pyplot as plt"
      ]
    },
    {
      "cell_type": "code",
      "execution_count": 4,
      "id": "8219e5c7-1069-467c-b130-eeb425a0786c",
      "metadata": {
        "colab": {
          "base_uri": "https://localhost:8080/"
        },
        "id": "8219e5c7-1069-467c-b130-eeb425a0786c",
        "outputId": "c3732df9-b98d-4874-fa64-4b9e5d684480"
      },
      "outputs": [
        {
          "output_type": "stream",
          "name": "stderr",
          "text": [
            "/usr/local/lib/python3.10/dist-packages/sklearn/datasets/_openml.py:968: FutureWarning: The default value of `parser` will change from `'liac-arff'` to `'auto'` in 1.4. You can set `parser='auto'` to silence this warning. Therefore, an `ImportError` will be raised from 1.4 if the dataset is dense and pandas is not installed. Note that the pandas parser may return different data types. See the Notes Section in fetch_openml's API doc for details.\n",
            "  warn(\n"
          ]
        }
      ],
      "source": [
        "X, y = fetch_openml('mnist_784', version=1, return_X_y=True)"
      ]
    },
    {
      "cell_type": "code",
      "execution_count": 5,
      "id": "63fcd96e-7a70-48e0-aca1-4f33451d1b1b",
      "metadata": {
        "colab": {
          "base_uri": "https://localhost:8080/"
        },
        "id": "63fcd96e-7a70-48e0-aca1-4f33451d1b1b",
        "outputId": "e9308a98-c180-4190-8f60-770ce1006eb5"
      },
      "outputs": [
        {
          "output_type": "execute_result",
          "data": {
            "text/plain": [
              "pandas.core.frame.DataFrame"
            ]
          },
          "metadata": {},
          "execution_count": 5
        }
      ],
      "source": [
        "type(X)"
      ]
    },
    {
      "cell_type": "code",
      "execution_count": 6,
      "id": "665f50ec-5e74-4a26-a210-f06f0067a625",
      "metadata": {
        "colab": {
          "base_uri": "https://localhost:8080/"
        },
        "id": "665f50ec-5e74-4a26-a210-f06f0067a625",
        "outputId": "20b600b6-637d-44dd-9c78-3a49af53adc0"
      },
      "outputs": [
        {
          "output_type": "execute_result",
          "data": {
            "text/plain": [
              "pandas.core.series.Series"
            ]
          },
          "metadata": {},
          "execution_count": 6
        }
      ],
      "source": [
        "type(y)"
      ]
    },
    {
      "cell_type": "code",
      "execution_count": 7,
      "id": "37b3f62a-0668-4e63-a022-f0ba28dd3622",
      "metadata": {
        "colab": {
          "base_uri": "https://localhost:8080/"
        },
        "id": "37b3f62a-0668-4e63-a022-f0ba28dd3622",
        "outputId": "fc7fabdf-b1b0-40e2-998e-f410423d6cd0"
      },
      "outputs": [
        {
          "output_type": "execute_result",
          "data": {
            "text/plain": [
              "array([  0.,   0.,   0.,   0.,   0.,   0.,   0.,   0.,   0.,   0.,   0.,\n",
              "         0.,   0.,   0.,   0.,   0.,   0.,   0.,   0.,   0.,   0.,   0.,\n",
              "         0.,   0.,   0.,   0.,   0.,   0.,   0.,   0.,   0.,   0.,   0.,\n",
              "         0.,   0.,   0.,   0.,   0.,   0.,   0.,   0.,   0.,   0.,   0.,\n",
              "         0.,   0.,   0.,   0.,   0.,   0.,   0.,   0.,   0.,   0.,   0.,\n",
              "         0.,   0.,   0.,   0.,   0.,   0.,   0.,   0.,   0.,   0.,   0.,\n",
              "         0.,   0.,   0.,   0.,   0.,   0.,   0.,   0.,   0.,   0.,   0.,\n",
              "         0.,   0.,   0.,   0.,   0.,   0.,   0.,   0.,   0.,   0.,   0.,\n",
              "         0.,   0.,   0.,   0.,   0.,   0.,   0.,   0.,   0.,   0.,   0.,\n",
              "         0.,   0.,   0.,   0.,   0.,   0.,   0.,   0.,   0.,   0.,   0.,\n",
              "         0.,   0.,   0.,   0.,   0.,   0.,   0.,   0.,   0.,   0.,   0.,\n",
              "         0.,   0.,   0.,   0.,   0.,   0.,   0.,   0.,   0.,   0.,   0.,\n",
              "         0.,   0.,   0.,   0.,   0.,   0.,   0.,   0.,   0.,   0.,   0.,\n",
              "         0.,   0.,   0.,   0.,   0.,   0.,   0.,   0.,   0.,   3.,  18.,\n",
              "        18.,  18., 126., 136., 175.,  26., 166., 255., 247., 127.,   0.,\n",
              "         0.,   0.,   0.,   0.,   0.,   0.,   0.,   0.,   0.,   0.,   0.,\n",
              "        30.,  36.,  94., 154., 170., 253., 253., 253., 253., 253., 225.,\n",
              "       172., 253., 242., 195.,  64.,   0.,   0.,   0.,   0.,   0.,   0.,\n",
              "         0.,   0.,   0.,   0.,   0.,  49., 238., 253., 253., 253., 253.,\n",
              "       253., 253., 253., 253., 251.,  93.,  82.,  82.,  56.,  39.,   0.,\n",
              "         0.,   0.,   0.,   0.,   0.,   0.,   0.,   0.,   0.,   0.,   0.,\n",
              "        18., 219., 253., 253., 253., 253., 253., 198., 182., 247., 241.,\n",
              "         0.,   0.,   0.,   0.,   0.,   0.,   0.,   0.,   0.,   0.,   0.,\n",
              "         0.,   0.,   0.,   0.,   0.,   0.,   0.,  80., 156., 107., 253.,\n",
              "       253., 205.,  11.,   0.,  43., 154.,   0.,   0.,   0.,   0.,   0.,\n",
              "         0.,   0.,   0.,   0.,   0.,   0.,   0.,   0.,   0.,   0.,   0.,\n",
              "         0.,   0.,   0.,  14.,   1., 154., 253.,  90.,   0.,   0.,   0.,\n",
              "         0.,   0.,   0.,   0.,   0.,   0.,   0.,   0.,   0.,   0.,   0.,\n",
              "         0.,   0.,   0.,   0.,   0.,   0.,   0.,   0.,   0.,   0.,   0.,\n",
              "       139., 253., 190.,   2.,   0.,   0.,   0.,   0.,   0.,   0.,   0.,\n",
              "         0.,   0.,   0.,   0.,   0.,   0.,   0.,   0.,   0.,   0.,   0.,\n",
              "         0.,   0.,   0.,   0.,   0.,   0.,  11., 190., 253.,  70.,   0.,\n",
              "         0.,   0.,   0.,   0.,   0.,   0.,   0.,   0.,   0.,   0.,   0.,\n",
              "         0.,   0.,   0.,   0.,   0.,   0.,   0.,   0.,   0.,   0.,   0.,\n",
              "         0.,   0.,  35., 241., 225., 160., 108.,   1.,   0.,   0.,   0.,\n",
              "         0.,   0.,   0.,   0.,   0.,   0.,   0.,   0.,   0.,   0.,   0.,\n",
              "         0.,   0.,   0.,   0.,   0.,   0.,   0.,   0.,   0.,  81., 240.,\n",
              "       253., 253., 119.,  25.,   0.,   0.,   0.,   0.,   0.,   0.,   0.,\n",
              "         0.,   0.,   0.,   0.,   0.,   0.,   0.,   0.,   0.,   0.,   0.,\n",
              "         0.,   0.,   0.,   0.,   0.,  45., 186., 253., 253., 150.,  27.,\n",
              "         0.,   0.,   0.,   0.,   0.,   0.,   0.,   0.,   0.,   0.,   0.,\n",
              "         0.,   0.,   0.,   0.,   0.,   0.,   0.,   0.,   0.,   0.,   0.,\n",
              "         0.,  16.,  93., 252., 253., 187.,   0.,   0.,   0.,   0.,   0.,\n",
              "         0.,   0.,   0.,   0.,   0.,   0.,   0.,   0.,   0.,   0.,   0.,\n",
              "         0.,   0.,   0.,   0.,   0.,   0.,   0.,   0.,   0., 249., 253.,\n",
              "       249.,  64.,   0.,   0.,   0.,   0.,   0.,   0.,   0.,   0.,   0.,\n",
              "         0.,   0.,   0.,   0.,   0.,   0.,   0.,   0.,   0.,   0.,   0.,\n",
              "         0.,  46., 130., 183., 253., 253., 207.,   2.,   0.,   0.,   0.,\n",
              "         0.,   0.,   0.,   0.,   0.,   0.,   0.,   0.,   0.,   0.,   0.,\n",
              "         0.,   0.,   0.,   0.,   0.,  39., 148., 229., 253., 253., 253.,\n",
              "       250., 182.,   0.,   0.,   0.,   0.,   0.,   0.,   0.,   0.,   0.,\n",
              "         0.,   0.,   0.,   0.,   0.,   0.,   0.,   0.,   0.,  24., 114.,\n",
              "       221., 253., 253., 253., 253., 201.,  78.,   0.,   0.,   0.,   0.,\n",
              "         0.,   0.,   0.,   0.,   0.,   0.,   0.,   0.,   0.,   0.,   0.,\n",
              "         0.,   0.,  23.,  66., 213., 253., 253., 253., 253., 198.,  81.,\n",
              "         2.,   0.,   0.,   0.,   0.,   0.,   0.,   0.,   0.,   0.,   0.,\n",
              "         0.,   0.,   0.,   0.,   0.,   0.,  18., 171., 219., 253., 253.,\n",
              "       253., 253., 195.,  80.,   9.,   0.,   0.,   0.,   0.,   0.,   0.,\n",
              "         0.,   0.,   0.,   0.,   0.,   0.,   0.,   0.,   0.,   0.,  55.,\n",
              "       172., 226., 253., 253., 253., 253., 244., 133.,  11.,   0.,   0.,\n",
              "         0.,   0.,   0.,   0.,   0.,   0.,   0.,   0.,   0.,   0.,   0.,\n",
              "         0.,   0.,   0.,   0.,   0., 136., 253., 253., 253., 212., 135.,\n",
              "       132.,  16.,   0.,   0.,   0.,   0.,   0.,   0.,   0.,   0.,   0.,\n",
              "         0.,   0.,   0.,   0.,   0.,   0.,   0.,   0.,   0.,   0.,   0.,\n",
              "         0.,   0.,   0.,   0.,   0.,   0.,   0.,   0.,   0.,   0.,   0.,\n",
              "         0.,   0.,   0.,   0.,   0.,   0.,   0.,   0.,   0.,   0.,   0.,\n",
              "         0.,   0.,   0.,   0.,   0.,   0.,   0.,   0.,   0.,   0.,   0.,\n",
              "         0.,   0.,   0.,   0.,   0.,   0.,   0.,   0.,   0.,   0.,   0.,\n",
              "         0.,   0.,   0.,   0.,   0.,   0.,   0.,   0.,   0.,   0.,   0.,\n",
              "         0.,   0.,   0.,   0.,   0.,   0.,   0.,   0.,   0.,   0.,   0.,\n",
              "         0.,   0.,   0.,   0.,   0.,   0.,   0.,   0.,   0.,   0.,   0.,\n",
              "         0.,   0.,   0.])"
            ]
          },
          "metadata": {},
          "execution_count": 7
        }
      ],
      "source": [
        "X = X.to_numpy()\n",
        "X[0]"
      ]
    },
    {
      "cell_type": "code",
      "execution_count": 8,
      "id": "27158b4c-7211-42dc-968d-36637d81d15f",
      "metadata": {
        "colab": {
          "base_uri": "https://localhost:8080/",
          "height": 35
        },
        "id": "27158b4c-7211-42dc-968d-36637d81d15f",
        "outputId": "955d1d49-913e-4b27-c084-1164d5d61cc9"
      },
      "outputs": [
        {
          "output_type": "execute_result",
          "data": {
            "text/plain": [
              "'5'"
            ],
            "application/vnd.google.colaboratory.intrinsic+json": {
              "type": "string"
            }
          },
          "metadata": {},
          "execution_count": 8
        }
      ],
      "source": [
        "y[0]"
      ]
    },
    {
      "cell_type": "code",
      "execution_count": 9,
      "id": "3a787164-de27-4d2b-a060-9daff3b179d3",
      "metadata": {
        "colab": {
          "base_uri": "https://localhost:8080/"
        },
        "id": "3a787164-de27-4d2b-a060-9daff3b179d3",
        "outputId": "38e4f09a-46b6-4d90-86b9-fd51836a7e3a"
      },
      "outputs": [
        {
          "output_type": "execute_result",
          "data": {
            "text/plain": [
              "(784,)"
            ]
          },
          "metadata": {},
          "execution_count": 9
        }
      ],
      "source": [
        "X[0].shape"
      ]
    },
    {
      "cell_type": "code",
      "execution_count": 10,
      "id": "d3508b50-8d8f-494c-82e7-f225bfdc76bb",
      "metadata": {
        "id": "d3508b50-8d8f-494c-82e7-f225bfdc76bb"
      },
      "outputs": [],
      "source": [
        "def sample_digit(target, X=X, y=y):\n",
        "    return next((digit for (digit, label) in zip(X, y) if label == str(target))).reshape((28,28))\n",
        "\n",
        "def display_mnist_digits():\n",
        "    fig, axs = plt.subplots(2, 5)\n",
        "\n",
        "    for i in range(2):\n",
        "        for j in range(5):\n",
        "            axs[i, j].imshow(sample_digit(5*i + j), cmap=\"gray\")\n",
        "            axs[i, j].axes.xaxis.set_visible(False)\n",
        "            axs[i, j].axes.yaxis.set_visible(False)\n",
        "\n",
        "    # return fig"
      ]
    },
    {
      "cell_type": "code",
      "execution_count": 11,
      "id": "a399fc31-841b-4536-854f-68633e9bdd7a",
      "metadata": {
        "colab": {
          "base_uri": "https://localhost:8080/",
          "height": 324
        },
        "id": "a399fc31-841b-4536-854f-68633e9bdd7a",
        "outputId": "b65733fb-1be5-4d06-ed9c-96d25bf435bf"
      },
      "outputs": [
        {
          "output_type": "display_data",
          "data": {
            "text/plain": [
              "<Figure size 640x480 with 10 Axes>"
            ],
            "image/png": "[encoded data removed]"
          },
          "metadata": {}
        }
      ],
      "source": [
        "display_mnist_digits()"
      ]
    },
    {
      "cell_type": "markdown",
      "id": "2086659e-4875-4a46-aefd-a8344cf03981",
      "metadata": {
        "id": "2086659e-4875-4a46-aefd-a8344cf03981"
      },
      "source": [
        "## Retina"
      ]
    },
    {
      "cell_type": "markdown",
      "id": "95aacbc8-3e32-451f-9b3b-2813d325c9d7",
      "metadata": {
        "id": "95aacbc8-3e32-451f-9b3b-2813d325c9d7"
      },
      "source": [
        "A retina mapeia as entradas de uma imagem para posições aleatórias de RAM"
      ]
    },
    {
      "cell_type": "code",
      "execution_count": 12,
      "id": "7603ab14-2c6e-43e1-8588-fc854c859bba",
      "metadata": {
        "id": "7603ab14-2c6e-43e1-8588-fc854c859bba"
      },
      "outputs": [],
      "source": [
        "import numpy as np"
      ]
    },
    {
      "cell_type": "code",
      "execution_count": 13,
      "id": "31b4ca60-86bf-4811-8756-b4637dcf0b5c",
      "metadata": {
        "id": "31b4ca60-86bf-4811-8756-b4637dcf0b5c"
      },
      "outputs": [],
      "source": [
        "img = X[0]\n",
        "label = y[0]\n",
        "shape = (28,28)"
      ]
    },
    {
      "cell_type": "code",
      "execution_count": 14,
      "id": "6f2e579f-e5a1-4d39-9bea-245acc40fbaf",
      "metadata": {
        "id": "6f2e579f-e5a1-4d39-9bea-245acc40fbaf"
      },
      "outputs": [],
      "source": [
        "def display_char(*, img: np.ndarray, label:str):\n",
        "    img = img.reshape(shape)\n",
        "    fig, ax = plt.subplots(1,1)\n",
        "    ax.set_title(label)\n",
        "    ax.imshow(img, cmap=\"gray\")\n"
      ]
    },
    {
      "cell_type": "code",
      "execution_count": 15,
      "id": "bef97ff2-a99f-4173-927c-7376f91e2dda",
      "metadata": {
        "colab": {
          "base_uri": "https://localhost:8080/",
          "height": 452
        },
        "id": "bef97ff2-a99f-4173-927c-7376f91e2dda",
        "outputId": "72d95c2d-4114-48b8-ea1e-37b14a9f19d8"
      },
      "outputs": [
        {
          "output_type": "display_data",
          "data": {
            "text/plain": [
              "<Figure size 640x480 with 1 Axes>"
            ],
            "image/png": "[encoded data removed]"
          },
          "metadata": {}
        }
      ],
      "source": [
        "display_char(img=img, label=label)"
      ]
    },
    {
      "cell_type": "code",
      "execution_count": 16,
      "id": "0d1ffaea-faf8-4994-b8d0-d6be256c2ab5",
      "metadata": {
        "id": "0d1ffaea-faf8-4994-b8d0-d6be256c2ab5"
      },
      "outputs": [],
      "source": [
        "node_size = 16\n",
        "\n",
        "def make_retina(*, img: np.ndarray, node_size: int):\n",
        "    img_size = len(img)\n",
        "    n_nodes =  img_size // node_size\n",
        "\n",
        "    positions = [x for x in range(img_size)]\n",
        "    np.random.shuffle(positions)\n",
        "    retina = []\n",
        "    for node_id in range(n_nodes):\n",
        "        node = []\n",
        "        for i in range(node_size):\n",
        "            p = positions.pop()\n",
        "            node.append(p)\n",
        "        retina.append(node)\n",
        "    return np.array(retina)"
      ]
    },
    {
      "cell_type": "code",
      "execution_count": 17,
      "id": "d24c8f25-5fd2-45ac-9496-b81e427178e4",
      "metadata": {
        "id": "d24c8f25-5fd2-45ac-9496-b81e427178e4"
      },
      "outputs": [],
      "source": [
        "retina = make_retina(\n",
        "    img = img,\n",
        "    node_size = 16,\n",
        ")"
      ]
    },
    {
      "cell_type": "code",
      "execution_count": 27,
      "id": "36e4b87d-df70-41b8-97c3-e44a5949bd7e",
      "metadata": {
        "colab": {
          "base_uri": "https://localhost:8080/"
        },
        "id": "36e4b87d-df70-41b8-97c3-e44a5949bd7e",
        "outputId": "021a6be6-338b-459e-8efd-2e8073d99ef6"
      },
      "outputs": [
        {
          "output_type": "execute_result",
          "data": {
            "text/plain": [
              "(49, 16)"
            ]
          },
          "metadata": {},
          "execution_count": 27
        }
      ],
      "source": [
        "retina.shape"
      ]
    },
    {
      "cell_type": "markdown",
      "source": [
        "## Train"
      ],
      "metadata": {
        "id": "-VtpimTdolJl"
      },
      "id": "-VtpimTdolJl"
    },
    {
      "cell_type": "code",
      "source": [
        "memory = dict()\n",
        "\n",
        "def get_pattern_from_img(*, img: np.ndarray, mapper):\n",
        "  pattern = np.zeros(shape=(16,1), dtype=bool)\n",
        "  for n, address in enumerate(mapper):\n",
        "    value = img[address]\n",
        "    pixel_lighted = value > 0\n",
        "    pattern[n] = pixel_lighted\n",
        "  # encode pattern as bits\n",
        "  b_pattern = pattern.tobytes()\n",
        "  return b_pattern\n",
        "\n",
        "def train(*, img: np.ndarray):\n",
        "  for node_id, node in enumerate(retina):\n",
        "    mapper = retina[node_id]\n",
        "    if node_id not in memory:\n",
        "      memory[node_id] = dict()\n",
        "\n",
        "    b_pattern = get_pattern_from_img(\n",
        "      img = img,\n",
        "      mapper = mapper,\n",
        "    )\n",
        "    if b_pattern not in memory[node_id]:\n",
        "      memory[node_id][b_pattern] = 1\n",
        "    else:\n",
        "      memory[node_id][b_pattern] +=1\n",
        "\n",
        "\n",
        "\n",
        "for label, img in zip(y, X):\n",
        "  if label == '5':\n",
        "    train(img = img)"
      ],
      "metadata": {
        "id": "L0ZuKRr6_yWU"
      },
      "id": "L0ZuKRr6_yWU",
      "execution_count": 208,
      "outputs": []
    },
    {
      "cell_type": "code",
      "source": [
        "def get_mental_memory():\n",
        "  mental_memory = np.zeros(shape=img.shape)\n",
        "\n",
        "  for node_id in memory:\n",
        "    mapper = retina[node_id]\n",
        "\n",
        "    for pattern in memory[node_id]:\n",
        "      count = memory[node_id][pattern]\n",
        "      for bit, address in zip(pattern, mapper):\n",
        "        if bit == 1:\n",
        "          mental_memory[address] +=count\n",
        "  return mental_memory"
      ],
      "metadata": {
        "id": "evtydV6nMhht"
      },
      "id": "evtydV6nMhht",
      "execution_count": 209,
      "outputs": []
    },
    {
      "cell_type": "code",
      "source": [
        "img.shape"
      ],
      "metadata": {
        "colab": {
          "base_uri": "https://localhost:8080/"
        },
        "id": "Ro5JpO6xT6xX",
        "outputId": "938285bd-2d8b-46a0-cb9e-fe874e823726"
      },
      "id": "Ro5JpO6xT6xX",
      "execution_count": 210,
      "outputs": [
        {
          "output_type": "execute_result",
          "data": {
            "text/plain": [
              "(784,)"
            ]
          },
          "metadata": {},
          "execution_count": 210
        }
      ]
    },
    {
      "cell_type": "code",
      "source": [
        "mental_memory = get_mental_memory()\n",
        "display_char(img = mental_memory, label='mental memory')\n"
      ],
      "metadata": {
        "colab": {
          "base_uri": "https://localhost:8080/",
          "height": 452
        },
        "id": "69zZrfe_MixT",
        "outputId": "af7cb61a-30e7-4a0d-83eb-55409fb13213"
      },
      "id": "69zZrfe_MixT",
      "execution_count": 211,
      "outputs": [
        {
          "output_type": "display_data",
          "data": {
            "text/plain": [
              "<Figure size 640x480 with 1 Axes>"
            ],
            "image/png": "[encoded data removed]"
          },
          "metadata": {}
        }
      ]
    },
    {
      "cell_type": "markdown",
      "source": [
        "## Classify"
      ],
      "metadata": {
        "id": "j3aVT-yUoqFg"
      },
      "id": "j3aVT-yUoqFg"
    },
    {
      "cell_type": "code",
      "source": [
        "def classify(*, img, memory, retina):\n",
        "  hits = 0\n",
        "  n_nodes = len(memory)\n",
        "\n",
        "  for node_id in memory:\n",
        "    mapper = retina[node_id]\n",
        "    b_pattern = get_pattern_from_img(\n",
        "        img = img,\n",
        "        mapper = mapper,\n",
        "    )\n",
        "\n",
        "    # a pattern learned before\n",
        "    if b_pattern in memory[node_id]:\n",
        "      counter = memory[node_id][b_pattern]\n",
        "      if counter > 0:\n",
        "        hits +=1\n",
        "\n",
        "  confidence = hits/n_nodes\n",
        "  return confidence\n",
        "\n",
        "img = X[1]\n",
        "classify(\n",
        "    img = img,\n",
        "    memory = memory,\n",
        "    retina = retina,\n",
        ")"
      ],
      "metadata": {
        "colab": {
          "base_uri": "https://localhost:8080/"
        },
        "id": "D8MNF9xtOSu0",
        "outputId": "7f7eca5f-09f9-4a4b-a8be-b430b122fbf8"
      },
      "id": "D8MNF9xtOSu0",
      "execution_count": 203,
      "outputs": [
        {
          "output_type": "execute_result",
          "data": {
            "text/plain": [
              "0.42857142857142855"
            ]
          },
          "metadata": {},
          "execution_count": 203
        }
      ]
    },
    {
      "cell_type": "code",
      "source": [
        "display_char(img = img, label='')"
      ],
      "metadata": {
        "colab": {
          "base_uri": "https://localhost:8080/",
          "height": 430
        },
        "id": "uJFvqeqQP6Mx",
        "outputId": "7d050487-6a6a-4e18-8f09-419315617b11"
      },
      "id": "uJFvqeqQP6Mx",
      "execution_count": 204,
      "outputs": [
        {
          "output_type": "display_data",
          "data": {
            "text/plain": [
              "<Figure size 640x480 with 1 Axes>"
            ],
            "image/png": "[encoded data removed]"
          },
          "metadata": {}
        }
      ]
    }
  ],
  "metadata": {
    "kernelspec": {
      "display_name": "Python 3 (ipykernel)",
      "language": "python",
      "name": "python3"
    },
    "language_info": {
      "codemirror_mode": {
        "name": "ipython",
        "version": 3
      },
      "file_extension": ".py",
      "mimetype": "text/x-python",
      "name": "python",
      "nbconvert_exporter": "python",
      "pygments_lexer": "ipython3",
      "version": "3.11.5"
    },
    "colab": {
      "provenance": []
    }
  },
  "nbformat": 4,
  "nbformat_minor": 5
}