{
 "cells": [
  {
   "cell_type": "code",
   "execution_count": 1,
   "id": "53a70ff1-5d3b-48ea-9e90-71f2a233c688",
   "metadata": {
    "scrolled": true
   },
   "outputs": [],
   "source": [
    "import pandas as pd\n",
    "import numpy as np\n",
    "import cv2\n",
    "import os\n",
    "import wisardpkg as wp\n",
    "from sklearn.model_selection import train_test_split\n",
    "from sklearn.metrics import accuracy_score, ConfusionMatrixDisplay\n",
    "import matplotlib.pyplot as plt\n",
    "from tqdm import tqdm"
   ]
  },
  {
   "cell_type": "code",
   "execution_count": 2,
   "id": "b53e4d19-d914-4fe4-beb3-af9aaa269442",
   "metadata": {},
   "outputs": [],
   "source": [
    "#descompactar o zip\n",
    "if len(os.listdir('./dataset')) <= 2: \n",
    "    !unzip -qq ./dataset/HAR.zip -d ./dataset/HAR"
   ]
  },
  {
   "cell_type": "code",
   "execution_count": 3,
   "id": "9949cf93-90d1-4deb-b838-06179d2d6968",
   "metadata": {},
   "outputs": [],
   "source": [
    "def load_images(filenames, labels, folder, img_dim=28):\n",
    "    images = []\n",
    "    for filename in filenames:\n",
    "        img = cv2.imread(os.path.join(folder, filename), cv2.IMREAD_GRAYSCALE)\n",
    "        img = cv2.resize(img, (img_dim, img_dim))  # Reescalona a imagem para 28 x 28. Experimentem com outros tamanhos\n",
    "        images.append(img.flatten())  # Achata a imagem\n",
    "    return images"
   ]
  },
  {
   "cell_type": "code",
   "execution_count": 4,
   "id": "ebafafe3-36ac-4ec6-90e1-a7d2c147a7b4",
   "metadata": {},
   "outputs": [],
   "source": [
    "def apply_fixed_threshold(imgs, threshold = 255):\n",
    "    return [list(map(int, np.round(img/threshold))) for img in imgs]\n",
    "\n",
    "def apply_mean_threshold(imgs):\n",
    "    result = []\n",
    "    for img in imgs:\n",
    "        img_threshold = img.mean()\n",
    "        binarized_img = list(map(lambda x: 1 if x>0 else 0, np.round(img/img_threshold)))\n",
    "        result.append(binarized_img)\n",
    "    return result"
   ]
  },
  {
   "cell_type": "code",
   "execution_count": 5,
   "id": "94c76022-303c-4b69-b131-8cf14ff53476",
   "metadata": {},
   "outputs": [],
   "source": [
    "def group_by(all_train_images, all_labels, groups):\n",
    "    groups_images, groups_labels  = [], []\n",
    "    for group in groups:\n",
    "        group_images = []\n",
    "        group_labels = []\n",
    "            \n",
    "        for image, label in zip(all_train_images, all_labels):\n",
    "            if label in group:\n",
    "                group_images.append(image)\n",
    "                group_labels.append(label)\n",
    "        groups_images.append(group_images)\n",
    "        groups_labels.append(group_labels)\n",
    "    return groups_images, groups_labels"
   ]
  },
  {
   "cell_type": "code",
   "execution_count": 6,
   "id": "314a926c-0a16-4eba-9917-c633b5f9f7d7",
   "metadata": {},
   "outputs": [],
   "source": [
    "def train(train_images, labels, num_bits_addr, multiple_cluswisard=False):\n",
    "    # train_images 2d, labels 1d\n",
    "    #\n",
    "    # train_images 3d , labels 2d\n",
    "    # [['hugging', 'fighting'], ['running', 'texting']]\n",
    "    # [ Cluswisard1, Cluswisard2 ]\n",
    "    \n",
    "    minScore, threshold, discriminatorLimit = 0.1, 10, 5\n",
    "\n",
    "    if multiple_cluswisard:\n",
    "        tests_split = []\n",
    "        models = []\n",
    "        for train_image_group, labels_group in zip(train_images, labels):\n",
    "            X_train, X_test, y_train, y_test = train_test_split(train_image_group, labels_group, test_size=0.2, random_state=42)\n",
    "            tests_split.append((X_test, y_test))\n",
    "            \n",
    "            model = wp.ClusWisard(\n",
    "                num_bits_addr, minScore, threshold, discriminatorLimit,\n",
    "                bleachingActivated=True, ignoreZero=False, base=2,     # optional\n",
    "                completeAddressing=True, verbose=False, indexes=[],     # optional\n",
    "                ## types of return of classify\n",
    "                returnActivationDegree=False, returnConfidence=True,   # optional\n",
    "                returnClassesDegrees=False                             # optional\n",
    "            )\n",
    "            \n",
    "            model.train(X_train, y_train)\n",
    "            models.append(model)\n",
    "\n",
    "        y_preds = []\n",
    "        concat_y_test = []\n",
    "        for (X_test, y_test) in tests_split:\n",
    "            concat_y_test += y_test\n",
    "            models_classify = []\n",
    "            for model in models:\n",
    "                y_pred = model.classify(X_test)\n",
    "                models_classify.append(y_pred)\n",
    "                \n",
    "            for i in range(len(models_classify[0])):\n",
    "                best_confidence = 0.0\n",
    "                best_class = ''\n",
    "                for model_classify in models_classify:\n",
    "                    if model_classify[i]['confidence'] > best_confidence:\n",
    "                        best_class = model_classify[i]['class']\n",
    "                y_preds.append(best_class)\n",
    "\n",
    "        acc = accuracy_score(concat_y_test, y_preds)\n",
    "        return (models, acc)\n",
    "    \n",
    "    else:\n",
    "        X_train, X_test, y_train, y_test = train_test_split(train_images, labels, test_size=0.2, random_state=42)\n",
    "    \n",
    "    \n",
    "        model = wp.ClusWisard(\n",
    "            num_bits_addr, minScore, threshold, discriminatorLimit,\n",
    "            bleachingActivated=True, ignoreZero=False, base=2,     # optional\n",
    "            completeAddressing=True, verbose=True, indexes=[],     # optional\n",
    "            ## types of return of classify\n",
    "            returnActivationDegree=False, returnConfidence=False,  # optional\n",
    "            returnClassesDegrees=False                             # optional\n",
    "        )\n",
    "\n",
    "        model.train(X_train, y_train)\n",
    "\n",
    "        y_pred = model.classify(X_test)\n",
    "\n",
    "        acc = accuracy_score(y_test, y_pred)\n",
    "        return (model, acc) # ((model1, model2), acc)"
   ]
  },
  {
   "cell_type": "code",
   "execution_count": 7,
   "id": "fd0ab547-6379-4581-b5c0-d090358d30a5",
   "metadata": {},
   "outputs": [],
   "source": [
    "root_path = './dataset/HAR/Human_Action_Recognition/'\n",
    "classes_of_interest = ['hugging', 'running', 'texting', 'fighting']\n",
    "train_folder = root_path + 'train'"
   ]
  },
  {
   "cell_type": "code",
   "execution_count": 8,
   "id": "b11a2ae9-f44c-4c18-ba44-2a6e650287b7",
   "metadata": {},
   "outputs": [],
   "source": [
    "train_df = pd.read_csv(root_path + 'Training_set.csv')\n",
    "filtered_df = train_df[train_df['label'].isin(classes_of_interest)]"
   ]
  },
  {
   "cell_type": "code",
   "execution_count": 9,
   "id": "0dab3612-2e86-4a71-bc92-b9764bcfc70b",
   "metadata": {},
   "outputs": [],
   "source": [
    "hipotesis = {\n",
    "    'fixed_threshold':{\n",
    "        'image_shape': 100,\n",
    "        'treatments': apply_fixed_threshold,\n",
    "        'group': True\n",
    "    },\n",
    "    'mean_threshold':{\n",
    "        'image_shape': 100,\n",
    "        'treatments': apply_mean_threshold,\n",
    "        'group': True\n",
    "    }\n",
    "}"
   ]
  },
  {
   "cell_type": "code",
   "execution_count": null,
   "id": "9df19fda-1e56-4972-b88a-f6eec25ced01",
   "metadata": {},
   "outputs": [
    {
     "name": "stderr",
     "output_type": "stream",
     "text": [
      "  0%|                                                                                                                          | 0/2 [00:00<?, ?it/s]"
     ]
    },
    {
     "name": "stdout",
     "output_type": "stream",
     "text": [
      "===============\n",
      "best acc by now 0.2619047619047619 with 2\n",
      "===============\n",
      "best acc by now 0.34077380952380953 with 7\n",
      "===============\n",
      "best acc by now 0.3556547619047619 with 8\n",
      "===============\n",
      "best acc by now 0.36755952380952384 with 11\n",
      "===============\n",
      "best acc by now 0.36904761904761907 with 12\n",
      "===============\n",
      "best acc by now 0.37202380952380953 with 13\n"
     ]
    },
    {
     "name": "stderr",
     "output_type": "stream",
     "text": [
      " 50%|████████████████████████████████████████████████████████▌                                                        | 1/2 [09:21<09:21, 561.95s/it]"
     ]
    }
   ],
   "source": [
    "best_model, best_accuracy, results = None, 0.0, []\n",
    "\n",
    "groups = [['hugging', 'texting'], ['fighting','running']]\n",
    "\n",
    "for case_name in tqdm(hipotesis):\n",
    "\n",
    "    params = hipotesis[case_name]\n",
    "\n",
    "    # get params\n",
    "    image_shape, treatment, group = params['image_shape'], params['treatments'], params['group']\n",
    "    \n",
    "    train_images_binary = load_images(filtered_df['filename'].tolist(), filtered_df['label'].tolist(), train_folder, image_shape)\n",
    "    train_labels = filtered_df['label'].tolist()\n",
    "    \n",
    "    # call pre-processing here\n",
    "    train_images = treatment(train_images_binary)\n",
    "    \n",
    "    if group:\n",
    "        train_images, train_labels = group_by(train_images, train_labels, groups)\n",
    "\n",
    "    # train\n",
    "    for num_bits_addr in range(2, 65):\n",
    "        (model, accuracy) = train(\n",
    "            train_images=train_images,\n",
    "            labels=train_labels,\n",
    "            num_bits_addr=num_bits_addr,\n",
    "            multiple_cluswisard=group\n",
    "        )\n",
    "        result = {\n",
    "            case_name: params,\n",
    "            'accuracy': accuracy,\n",
    "            'num_bits_addr':num_bits_addr,\n",
    "        }\n",
    "\n",
    "        results.append(result)\n",
    "\n",
    "        if accuracy > best_accuracy:\n",
    "            print('='*15)            \n",
    "            print(f'best acc by now {accuracy} with {num_bits_addr}')\n",
    "            best_result, best_model, best_accuracy = result, model, accuracy\n",
    "print(f'current champion is {best_model}')"
   ]
  },
  {
   "cell_type": "code",
   "execution_count": null,
   "id": "45a508dd-50d6-4b40-b5bc-594b7c56d3a8",
   "metadata": {},
   "outputs": [],
   "source": [
    "num_bits_addr = 10\n",
    "model = wp.Wisard(num_bits_addr, returnConfidence=True)\n",
    "imgs_t = apply_mean_threshold(train_images_binary)\n",
    "X_train, X_test, y_train, y_test = train_test_split(imgs_t, train_labels, test_size=0.2, random_state=42)\n",
    "model.train(X_train, y_train)\n",
    "y_pred = model.classify(X_test)\n",
    "y_pred[0]\n",
    "#acc = accuracy_score(y_test, y_pred)\n",
    "#print('acc: ', acc)\n",
    "#ConfusionMatrixDisplay.from_predictions(y_test, y_pred)\n",
    "#plt.show()"
   ]
  }
 ],
 "metadata": {
  "kernelspec": {
   "display_name": "Python 3 (ipykernel)",
   "language": "python",
   "name": "python3"
  },
  "language_info": {
   "codemirror_mode": {
    "name": "ipython",
    "version": 3
   },
   "file_extension": ".py",
   "mimetype": "text/x-python",
   "name": "python",
   "nbconvert_exporter": "python",
   "pygments_lexer": "ipython3",
   "version": "3.11.2"
  }
 },
 "nbformat": 4,
 "nbformat_minor": 5
}
